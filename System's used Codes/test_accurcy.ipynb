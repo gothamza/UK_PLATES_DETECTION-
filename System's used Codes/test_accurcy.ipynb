{
 "cells": [
  {
   "cell_type": "code",
   "execution_count": null,
   "id": "8b9213d0",
   "metadata": {},
   "outputs": [],
   "source": [
    "import easyocr\n",
    "import os\n",
    "\n",
    "reader = easyocr.Reader(['en'])\n",
    "\n",
    "image_dir = 'UKLicencePlateDataset/whiteplate_normal'  # Directory containing the images\n",
    "total_images = 0\n",
    "correct_predictions = 0\n",
    "max_images = 200  # Maximum number of images to process\n",
    "\n",
    "for image_name in os.listdir(image_dir):\n",
    "    if total_images >= max_images:\n",
    "        break\n",
    "    \n",
    "    image_path = os.path.join(image_dir, image_name)\n",
    "    expected_label = os.path.splitext(image_name)[0]  # Extract the label from the image filename\n",
    "    \n",
    "    results = reader.readtext(image_path)\n",
    "    recognized_text = results[0][1] if results else ''  # Get the recognized text (assuming only one result)\n",
    "    \n",
    "    if recognized_text == expected_label:\n",
    "        correct_predictions += 1\n",
    "        \n",
    "    \n",
    "    total_images += 1\n",
    "    accuracy = correct_predictions / total_images * 100\n",
    "    print(f\"Accuracy: {accuracy:.2f}%\")\n",
    "\n",
    "accuracy = correct_predictions / total_images * 100\n",
    "print(f\"final Accuracy: {accuracy:.2f}%\")\n"
   ]
  },
  {
   "cell_type": "code",
   "execution_count": null,
   "id": "1175e10d",
   "metadata": {},
   "outputs": [],
   "source": [
    "import easyocr\n",
    "import os\n",
    "\n",
    "reader = easyocr.Reader(['en'])\n",
    "\n",
    "image_dir = 'UKLicencePlateDataset/whiteplate_normal'  # Directory containing the images\n",
    "max_images = 10  # Maximum number of images to process\n",
    "\n",
    "for idx, image_name in enumerate(os.listdir(image_dir)):\n",
    "    if idx >= max_images:\n",
    "        break\n",
    "    \n",
    "    image_path = os.path.join(image_dir, image_name)\n",
    "    expected_label = os.path.splitext(image_name)[0]  # Extract the label from the image filename\n",
    "    \n",
    "    results = reader.readtext(image_path)\n",
    "    recognized_text = results[0][1] if results else ''  # Get the recognized text (assuming only one result)\n",
    "    \n",
    "    print(f\"Image: {image_name}\")\n",
    "    print(f\"Expected Label: {expected_label}\")\n",
    "    print(f\"Predicted Text: {recognized_text}\")\n",
    "    print('---')\n"
   ]
  },
  {
   "cell_type": "code",
   "execution_count": 1,
   "id": "dddc977f",
   "metadata": {},
   "outputs": [
    {
     "ename": "NameError",
     "evalue": "name 'plt' is not defined",
     "output_type": "error",
     "traceback": [
      "\u001b[1;31m---------------------------------------------------------------------------\u001b[0m",
      "\u001b[1;31mNameError\u001b[0m                                 Traceback (most recent call last)",
      "Cell \u001b[1;32mIn[1], line 1\u001b[0m\n\u001b[1;32m----> 1\u001b[0m \u001b[43mplt\u001b[49m\u001b[38;5;241m.\u001b[39mimshow(gray,cmap\u001b[38;5;241m=\u001b[39m\u001b[38;5;124m'\u001b[39m\u001b[38;5;124mgray\u001b[39m\u001b[38;5;124m'\u001b[39m )\n",
      "\u001b[1;31mNameError\u001b[0m: name 'plt' is not defined"
     ]
    }
   ],
   "source": [
    "plt.imshow(gray,cmap='gray' )"
   ]
  },
  {
   "cell_type": "code",
   "execution_count": null,
   "id": "dd1391ba",
   "metadata": {},
   "outputs": [],
   "source": [
    "    "
   ]
  }
 ],
 "metadata": {
  "kernelspec": {
   "display_name": "Python 3 (ipykernel)",
   "language": "python",
   "name": "python3"
  },
  "language_info": {
   "codemirror_mode": {
    "name": "ipython",
    "version": 3
   },
   "file_extension": ".py",
   "mimetype": "text/x-python",
   "name": "python",
   "nbconvert_exporter": "python",
   "pygments_lexer": "ipython3",
   "version": "3.10.9"
  }
 },
 "nbformat": 4,
 "nbformat_minor": 5
}
