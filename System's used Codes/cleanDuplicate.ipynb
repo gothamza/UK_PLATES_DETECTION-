{
 "cells": [
  {
   "cell_type": "code",
   "execution_count": 1,
   "metadata": {},
   "outputs": [],
   "source": [
    "import os\n",
    "from PIL import Image\n",
    "import imagehash\n",
    "\n",
    "def remove_duplicates(folder_path):\n",
    "    # Dictionnaire pour stocker les empreintes et les chemins des images\n",
    "    hash_dict = {}\n",
    "\n",
    "    # Parcourir les fichiers du dossier\n",
    "    for filename in os.listdir(folder_path):\n",
    "        file_path = os.path.join(folder_path, filename)\n",
    "        \n",
    "        # Ignorer les fichiers qui ne sont pas des images\n",
    "        if not os.path.isfile(file_path) or not file_path.lower().endswith(('.png', '.jpg', '.jpeg')):\n",
    "            continue\n",
    "        \n",
    "        # Calculer l'empreinte de l'image\n",
    "        with Image.open(file_path) as img:\n",
    "            img_hash = imagehash.average_hash(img)\n",
    "        \n",
    "        # Vérifier si l'empreinte existe déjà dans le dictionnaire\n",
    "        if img_hash in hash_dict:\n",
    "            # Supprimer l'image en double\n",
    "            os.remove(file_path)\n",
    "        else:\n",
    "            # Ajouter l'empreinte et le chemin de l'image au dictionnaire\n",
    "            hash_dict[img_hash] = file_path\n",
    "\n",
    "# Appeler la fonction avec le chemin du dossier contenant les images\n",
    "remove_duplicates('D:/M1 S2/ML/LPR Project Nadia/Numb_plate_imgs')"
   ]
  },
  {
   "cell_type": "code",
   "execution_count": null,
   "metadata": {},
   "outputs": [],
   "source": []
  }
 ],
 "metadata": {
  "kernelspec": {
   "display_name": "base",
   "language": "python",
   "name": "python3"
  },
  "language_info": {
   "codemirror_mode": {
    "name": "ipython",
    "version": 3
   },
   "file_extension": ".py",
   "mimetype": "text/x-python",
   "name": "python",
   "nbconvert_exporter": "python",
   "pygments_lexer": "ipython3",
   "version": "3.9.13"
  },
  "orig_nbformat": 4
 },
 "nbformat": 4,
 "nbformat_minor": 2
}
