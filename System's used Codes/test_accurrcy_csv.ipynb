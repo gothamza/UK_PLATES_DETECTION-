{
 "cells": [
  {
   "cell_type": "code",
   "execution_count": 1,
   "id": "3737cfe0",
   "metadata": {},
   "outputs": [
    {
     "name": "stdout",
     "output_type": "stream",
     "text": [
      "Accuracy: 0.34814814814814815\n"
     ]
    }
   ],
   "source": [
    "import csv\n",
    "import numpy as np\n",
    "from sklearn.model_selection import train_test_split\n",
    "from sklearn.svm import SVC\n",
    "from sklearn.metrics import accuracy_score\n",
    "\n",
    "# Load the CSV data\n",
    "csv_filename = 'features666.csv'\n",
    "data = []\n",
    "labels = []\n",
    "\n",
    "with open(csv_filename, mode='r') as file:\n",
    "    reader = csv.reader(file)\n",
    "    header_row = next(reader)  # Skip the header row\n",
    "\n",
    "    for row in reader:\n",
    "        features = np.array(row[:-1], dtype=np.float32)  # Convert features to numpy array\n",
    "        label = row[-1]\n",
    "        data.append(features)\n",
    "        labels.append(label)\n",
    "\n",
    "# Split the data into training and testing sets\n",
    "X_train, X_test, y_train, y_test = train_test_split(data, labels, test_size=0.2, random_state=42)\n",
    "\n",
    "# Train the SVM classifier\n",
    "svm = SVC(kernel='linear')\n",
    "svm.fit(X_train, y_train)\n",
    "\n",
    "# Make predictions on the test set\n",
    "y_pred = svm.predict(X_test)\n",
    "\n",
    "# Calculate accuracy\n",
    "accuracy = accuracy_score(y_test, y_pred)\n",
    "print(\"Accuracy:\", accuracy)\n",
    "\n",
    "# Predict some images from your path\n",
    "#path = 'your_image_path'  # Replace with the actual path to your images\n",
    "\n",
    "# Load and preprocess the images\n",
    "# ...\n",
    "\n",
    "# Extract features from the preprocessed images\n",
    "# ...\n",
    "\n",
    "# Make predictions using the trained SVM classifier\n",
    "#predictions = svm.predict(features)\n",
    "\n",
    "# Print the predicted labels\n",
    "#print(\"Predictions:\")\n",
    "#for image_path, label in zip(image_paths, predictions):\n",
    " #   print(f\"{image_path}: {label}\")\n"
   ]
  },
  {
   "cell_type": "code",
   "execution_count": 2,
   "id": "388f93f2",
   "metadata": {},
   "outputs": [
    {
     "name": "stdout",
     "output_type": "stream",
     "text": [
      "Best Parameters: {'metric': 'manhattan', 'n_neighbors': 5, 'weights': 'distance'}\n",
      "Best Score: 0.32034361502885755\n",
      "Accuracy: 0.33827160493827163\n"
     ]
    }
   ],
   "source": [
    "from sklearn.model_selection import GridSearchCV\n",
    "from sklearn.neighbors import KNeighborsClassifier\n",
    "\n",
    "# Define the parameter grid\n",
    "param_grid = {\n",
    "    'n_neighbors': [3, 5, 7],\n",
    "    'weights': ['uniform', 'distance'],\n",
    "    'metric': ['euclidean', 'manhattan']\n",
    "}\n",
    "\n",
    "# Create the KNN classifier\n",
    "knn = KNeighborsClassifier()\n",
    "\n",
    "# Perform grid search\n",
    "grid_search = GridSearchCV(knn, param_grid, cv=5)\n",
    "grid_search.fit(X_train, y_train)\n",
    "\n",
    "# Get the best parameters and best score\n",
    "best_params = grid_search.best_params_\n",
    "best_score = grid_search.best_score_\n",
    "\n",
    "print(\"Best Parameters:\", best_params)\n",
    "print(\"Best Score:\", best_score)\n",
    "\n",
    "# Use the best model for prediction\n",
    "best_model = grid_search.best_estimator_\n",
    "y_pred = best_model.predict(X_test)\n",
    "\n",
    "# Calculate accuracy\n",
    "accuracy = accuracy_score(y_test, y_pred)\n",
    "print(\"Accuracy:\", accuracy)\n"
   ]
  },
  {
   "cell_type": "code",
   "execution_count": 3,
   "id": "a81ac2bf",
   "metadata": {},
   "outputs": [
    {
     "name": "stdout",
     "output_type": "stream",
     "text": [
      "Accuracy: 0.35555555555555557\n"
     ]
    }
   ],
   "source": [
    "from sklearn.tree import DecisionTreeClassifier\n",
    "from sklearn.metrics import accuracy_score\n",
    "\n",
    "# Create the decision tree classifier\n",
    "decision_tree = DecisionTreeClassifier()\n",
    "\n",
    "# Train the classifier\n",
    "decision_tree.fit(X_train, y_train)\n",
    "\n",
    "# Make predictions on the test set\n",
    "y_pred = decision_tree.predict(X_test)\n",
    "\n",
    "# Calculate accuracy\n",
    "accuracy = accuracy_score(y_test, y_pred)\n",
    "print(\"Accuracy:\", accuracy)\n"
   ]
  },
  {
   "cell_type": "code",
   "execution_count": 4,
   "id": "9944483b",
   "metadata": {},
   "outputs": [],
   "source": [
    "############################################\n",
    "###########################################\n",
    "##########################81fearures"
   ]
  },
  {
   "cell_type": "code",
   "execution_count": 7,
   "id": "b6c172f8",
   "metadata": {},
   "outputs": [
    {
     "name": "stdout",
     "output_type": "stream",
     "text": [
      "Accuracy: 0.20555555555555555\n"
     ]
    }
   ],
   "source": [
    "import csv\n",
    "import numpy as np\n",
    "from sklearn.model_selection import train_test_split\n",
    "from sklearn.svm import SVC\n",
    "from sklearn.metrics import accuracy_score\n",
    "\n",
    "# Load the CSV data\n",
    "csv_filename = 'features6.csv'\n",
    "data = []\n",
    "labels = []\n",
    "\n",
    "with open(csv_filename, mode='r') as file:\n",
    "    reader = csv.reader(file)\n",
    "    header_row = next(reader)  # Skip the header row\n",
    "\n",
    "    for row in reader:\n",
    "        features = np.array(row[:-1], dtype=np.float32)  # Convert features to numpy array\n",
    "        label = row[-1]\n",
    "        data.append(features)\n",
    "        labels.append(label)\n",
    "\n",
    "# Split the data into training and testing sets\n",
    "X_train, X_test, y_train, y_test = train_test_split(data, labels, test_size=0.2, random_state=42)\n",
    "\n",
    "# Train the SVM classifier\n",
    "svm = SVC(kernel='linear')\n",
    "svm.fit(X_train, y_train)\n",
    "\n",
    "# Make predictions on the test set\n",
    "y_pred = svm.predict(X_test)\n",
    "\n",
    "# Calculate accuracy\n",
    "accuracy = accuracy_score(y_test, y_pred)\n",
    "print(\"Accuracy:\", accuracy)\n",
    "\n",
    "# Predict some images from your path\n",
    "#path = 'your_image_path'  # Replace with the actual path to your images\n",
    "\n",
    "# Load and preprocess the images\n",
    "# ...\n",
    "\n",
    "# Extract features from the preprocessed images\n",
    "# ...\n",
    "\n",
    "# Make predictions using the trained SVM classifier\n",
    "#predictions = svm.predict(features)\n",
    "\n",
    "# Print the predicted labels\n",
    "#print(\"Predictions:\")\n",
    "#for image_path, label in zip(image_paths, predictions):\n",
    " #   print(f\"{image_path}: {label}\")\n"
   ]
  },
  {
   "cell_type": "code",
   "execution_count": 8,
   "id": "5e837ba2",
   "metadata": {},
   "outputs": [
    {
     "name": "stdout",
     "output_type": "stream",
     "text": [
      "Accuracy: 0.22142857142857142\n"
     ]
    }
   ],
   "source": [
    "from sklearn.tree import DecisionTreeClassifier\n",
    "from sklearn.metrics import accuracy_score\n",
    "\n",
    "# Create the decision tree classifier\n",
    "decision_tree = DecisionTreeClassifier()\n",
    "\n",
    "# Train the classifier\n",
    "decision_tree.fit(X_train, y_train)\n",
    "\n",
    "# Make predictions on the test set\n",
    "y_pred = decision_tree.predict(X_test)\n",
    "\n",
    "# Calculate accuracy\n",
    "accuracy = accuracy_score(y_test, y_pred)\n",
    "print(\"Accuracy:\", accuracy)\n"
   ]
  },
  {
   "cell_type": "code",
   "execution_count": 1,
   "id": "1ad5bed1",
   "metadata": {},
   "outputs": [
    {
     "name": "stdout",
     "output_type": "stream",
     "text": [
      "Accuracy: 0.9863713798977853\n"
     ]
    }
   ],
   "source": [
    "\n",
    "import csv\n",
    "import numpy as np\n",
    "from sklearn.model_selection import train_test_split\n",
    "from sklearn.svm import SVC\n",
    "from sklearn.metrics import accuracy_score\n",
    "\n",
    "# Load the CSV data\n",
    "csv_filename = 'features667_size3_c.csv'\n",
    "data = []\n",
    "labels = []\n",
    "\n",
    "with open(csv_filename, mode='r') as file:\n",
    "    reader = csv.reader(file)\n",
    "    header_row = next(reader)  # Skip the header row\n",
    "\n",
    "    for row in reader:\n",
    "        features = np.array(row[:-1], dtype=np.float32)  # Convert features to numpy array\n",
    "        label = row[-1]\n",
    "        data.append(features)\n",
    "        labels.append(label)\n",
    "\n",
    "# Split the data into training and testing sets\n",
    "X_train, X_test, y_train, y_test = train_test_split(data, labels, test_size=0.2, random_state=42)\n",
    "\n",
    "# Train the SVM classifier\n",
    "svm = SVC(kernel='linear')\n",
    "svm.fit(X_train, y_train)\n",
    "\n",
    "# Make predictions on the test set\n",
    "y_pred = svm.predict(X_test)\n",
    "\n",
    "# Calculate accuracy\n",
    "accuracy = accuracy_score(y_test, y_pred)\n",
    "print(\"Accuracy:\", accuracy)\n",
    "\n"
   ]
  },
  {
   "cell_type": "code",
   "execution_count": 2,
   "id": "213ba717",
   "metadata": {},
   "outputs": [
    {
     "name": "stdout",
     "output_type": "stream",
     "text": [
      "Accuracy: 0.9846678023850085\n",
      "Expected: X, Predicted: X\n",
      "Expected: H, Predicted: H\n",
      "Expected: 5, Predicted: 5\n",
      "Expected: Q, Predicted: Q\n",
      "Expected: 0, Predicted: 0\n",
      "Expected: I, Predicted: I\n",
      "Expected: R, Predicted: R\n",
      "Expected: 8, Predicted: 8\n",
      "Expected: H, Predicted: H\n",
      "Expected: D, Predicted: D\n"
     ]
    }
   ],
   "source": [
    "from sklearn.neighbors import KNeighborsClassifier\n",
    "from sklearn.metrics import accuracy_score\n",
    "\n",
    "# Create the KNN classifier\n",
    "knn = KNeighborsClassifier(n_neighbors=5)\n",
    "\n",
    "# Train the classifier\n",
    "knn.fit(X_train, y_train)\n",
    "\n",
    "# Make predictions on the test set\n",
    "y_pred = knn.predict(X_test)\n",
    "\n",
    "# Calculate accuracy\n",
    "accuracy = accuracy_score(y_test, y_pred)\n",
    "print(\"Accuracy:\", accuracy)\n",
    "\n",
    "# Predict 5 lines from the CSV file\n",
    "num_predictions = 10\n",
    "for i in range(num_predictions):\n",
    "    features = np.array([X_test[i]], dtype=np.float32)\n",
    "    expected_label = y_test[i]\n",
    "    predicted_label = knn.predict(features)[0]\n",
    "    print(f\"Expected: {expected_label}, Predicted: {predicted_label}\")\n"
   ]
  },
  {
   "cell_type": "code",
   "execution_count": 3,
   "id": "d86d9edf",
   "metadata": {},
   "outputs": [
    {
     "name": "stdout",
     "output_type": "stream",
     "text": [
      "Accuracy: 0.9846678023850085\n"
     ]
    }
   ],
   "source": [
    "from sklearn.tree import DecisionTreeClassifier\n",
    "from sklearn.metrics import accuracy_score\n",
    "\n",
    "# Create the decision tree classifier\n",
    "decision_tree = DecisionTreeClassifier()\n",
    "\n",
    "# Train the classifier\n",
    "decision_tree.fit(X_train, y_train)\n",
    "\n",
    "# Make predictions on the test set\n",
    "y_pred = decision_tree.predict(X_test)\n",
    "\n",
    "# Calculate accuracy\n",
    "accuracy = accuracy_score(y_test, y_pred)\n",
    "print(\"Accuracy:\", accuracy)\n"
   ]
  },
  {
   "cell_type": "code",
   "execution_count": null,
   "id": "771d2c7d",
   "metadata": {},
   "outputs": [],
   "source": []
  }
 ],
 "metadata": {
  "kernelspec": {
   "display_name": "Python 3 (ipykernel)",
   "language": "python",
   "name": "python3"
  },
  "language_info": {
   "codemirror_mode": {
    "name": "ipython",
    "version": 3
   },
   "file_extension": ".py",
   "mimetype": "text/x-python",
   "name": "python",
   "nbconvert_exporter": "python",
   "pygments_lexer": "ipython3",
   "version": "3.10.9"
  }
 },
 "nbformat": 4,
 "nbformat_minor": 5
}
